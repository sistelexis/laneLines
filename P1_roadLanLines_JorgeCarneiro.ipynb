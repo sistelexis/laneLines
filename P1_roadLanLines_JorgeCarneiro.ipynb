{
 "cells": [
  {
   "cell_type": "markdown",
   "metadata": {},
   "source": [
    "# Self-Driving Car Engineer Nanodegree\n",
    "\n",
    "\n",
    "## Project: **Finding Lane Lines on the Road** \n",
    "***\n",
    "###**Updated version by Jorge Carneiro**\n",
    "Code has been updated based on comments\n",
    "\n",
    "In this project, you will use the tools you learned about in the lesson to identify lane lines on the road.  You can develop your pipeline on a series of individual images, and later apply the result to a video stream (really just a series of images). Check out the video clip \"raw-lines-example.mp4\" (also contained in this repository) to see what the output should look like after using the helper functions below. \n",
    "\n",
    "Once you have a result that looks roughly like \"raw-lines-example.mp4\", you'll need to get creative and try to average and/or extrapolate the line segments you've detected to map out the full extent of the lane lines.  You can see an example of the result you're going for in the video \"P1_example.mp4\".  Ultimately, you would like to draw just one line for the left side of the lane, and one for the right.\n",
    "\n",
    "In addition to implementing code, there is a brief writeup to complete. The writeup should be completed in a separate file, which can be either a markdown file or a pdf document. There is a [write up template](https://github.com/udacity/CarND-LaneLines-P1/blob/master/writeup_template.md) that can be used to guide the writing process. Completing both the code in the Ipython notebook and the writeup template will cover all of the [rubric points](https://review.udacity.com/#!/rubrics/322/view) for this project.\n",
    "\n",
    "---\n",
    "Let's have a look at our first image called 'test_images/solidWhiteRight.jpg'.  Run the 2 cells below (hit Shift-Enter or the \"play\" button above) to display the image.\n",
    "\n",
    "**Note: If, at any point, you encounter frozen display windows or other confounding issues, you can always start again with a clean slate by going to the \"Kernel\" menu above and selecting \"Restart & Clear Output\".**\n",
    "\n",
    "---"
   ]
  },
  {
   "cell_type": "markdown",
   "metadata": {},
   "source": [
    "**The tools you have are color selection, region of interest selection, grayscaling, Gaussian smoothing, Canny Edge Detection and Hough Tranform line detection.  You  are also free to explore and try other techniques that were not presented in the lesson.  Your goal is piece together a pipeline to detect the line segments in the image, then average/extrapolate them and draw them onto the image for display (as below).  Once you have a working pipeline, try it out on the video stream below.**\n",
    "\n",
    "---\n",
    "\n",
    "<figure>\n",
    " <img src=\"examples/line-segments-example.jpg\" width=\"380\" alt=\"Combined Image\" />\n",
    " <figcaption>\n",
    " <p></p> \n",
    " <p style=\"text-align: center;\"> Your output should look something like this (above) after detecting line segments using the helper functions below </p> \n",
    " </figcaption>\n",
    "</figure>\n",
    " <p></p> \n",
    "<figure>\n",
    " <img src=\"examples/laneLines_thirdPass.jpg\" width=\"380\" alt=\"Combined Image\" />\n",
    " <figcaption>\n",
    " <p></p> \n",
    " <p style=\"text-align: center;\"> Your goal is to connect/average/extrapolate line segments to get output like this</p> \n",
    " </figcaption>\n",
    "</figure>"
   ]
  },
  {
   "cell_type": "markdown",
   "metadata": {},
   "source": [
    "**Run the cell below to import some packages.  If you get an `import error` for a package you've already installed, try changing your kernel (select the Kernel menu above --> Change Kernel).  Still have problems?  Try relaunching Jupyter Notebook from the terminal prompt.  Also, see [this forum post](https://carnd-forums.udacity.com/cq/viewquestion.action?spaceKey=CAR&id=29496372&questionTitle=finding-lanes---import-cv2-fails-even-though-python-in-the-terminal-window-has-no-problem-with-import-cv2) for more troubleshooting tips.**  "
   ]
  },
  {
   "cell_type": "markdown",
   "metadata": {},
   "source": [
    "## Import Packages"
   ]
  },
  {
   "cell_type": "code",
   "execution_count": null,
   "metadata": {
    "collapsed": false
   },
   "outputs": [],
   "source": [
    "#importing some useful packages\n",
    "import matplotlib.pyplot as plt\n",
    "import matplotlib.image as mpimg\n",
    "import numpy as np\n",
    "import cv2\n",
    "%matplotlib inline"
   ]
  },
  {
   "cell_type": "markdown",
   "metadata": {},
   "source": [
    "## Read in an Image"
   ]
  },
  {
   "cell_type": "code",
   "execution_count": null,
   "metadata": {
    "collapsed": false
   },
   "outputs": [],
   "source": [
    "#reading in an image\n",
    "image = mpimg.imread('test_images/solidWhiteRight.jpg')\n",
    "\n",
    "#printing out some stats and plotting\n",
    "print('This image is:', type(image), 'with dimensions:', image.shape)\n",
    "plt.imshow(image)  # if you wanted to show a single color channel image called 'gray', for example, call as plt.imshow(gray, cmap='gray')"
   ]
  },
  {
   "cell_type": "markdown",
   "metadata": {},
   "source": [
    "## Ideas for Lane Detection Pipeline"
   ]
  },
  {
   "cell_type": "markdown",
   "metadata": {},
   "source": [
    "**Some OpenCV functions (beyond those introduced in the lesson) that might be useful for this project are:**\n",
    "\n",
    "`cv2.inRange()` for color selection  \n",
    "`cv2.fillPoly()` for regions selection  \n",
    "`cv2.line()` to draw lines on an image given endpoints  \n",
    "`cv2.addWeighted()` to coadd / overlay two images\n",
    "`cv2.cvtColor()` to grayscale or change color\n",
    "`cv2.imwrite()` to output images to file  \n",
    "`cv2.bitwise_and()` to apply a mask to an image\n",
    "\n",
    "**Check out the OpenCV documentation to learn about these and discover even more awesome functionality!**"
   ]
  },
  {
   "cell_type": "markdown",
   "metadata": {},
   "source": [
    "## Helper Functions"
   ]
  },
  {
   "cell_type": "markdown",
   "metadata": {},
   "source": [
    "Below are some helper functions to help get you started. They should look familiar from the lesson!"
   ]
  },
  {
   "cell_type": "code",
   "execution_count": null,
   "metadata": {
    "collapsed": false
   },
   "outputs": [],
   "source": [
    "import math\n",
    "import scipy as scp\n",
    "\n",
    "def convert_hls(image):\n",
    "    #ADDED\n",
    "    #converts the image from RGB to HLS\n",
    "    return cv2.cvtColor(image, cv2.COLOR_RGB2HLS)\n",
    "\n",
    "def select_rgb_colors(image): \n",
    "    #ADDED\n",
    "    #convert image to HLS\n",
    "    converted_img = convert_hls(image)\n",
    "    # define white and yellow thresholds\n",
    "    white_lower = np.uint8([0, 200, 0])\n",
    "    white_upper = np.uint8([255, 255, 255])\n",
    "    yellow_lower = np.uint8([10, 0, 100])\n",
    "    yellow_upper = np.uint8([40, 255, 255])\n",
    "    # create white and yellow masks\n",
    "    white_mask = cv2.inRange(converted_img, white_lower, white_upper)\n",
    "    yellow_mask = cv2.inRange(converted_img, yellow_lower, yellow_upper)\n",
    "    # combine to final mask\n",
    "    mask = cv2.bitwise_or(white_mask, yellow_mask)\n",
    "    # put mask over base image\n",
    "    masked = cv2.bitwise_and(image, image, mask = mask)\n",
    "    return masked\n",
    "\n",
    "def grayscale(img):\n",
    "    \"\"\"Applies the Grayscale transform\n",
    "    This will return an image with only one color channel\n",
    "    but NOTE: to see the returned image as grayscale\n",
    "    (assuming your grayscaled image is called 'gray')\n",
    "    you should call plt.imshow(gray, cmap='gray')\"\"\"\n",
    "    return cv2.cvtColor(img, cv2.COLOR_RGB2GRAY)\n",
    "    # Or use BGR2GRAY if you read an image with cv2.imread()\n",
    "    # return cv2.cvtColor(img, cv2.COLOR_BGR2GRAY)\n",
    "    \n",
    "def canny(img, low_threshold, high_threshold):\n",
    "    \"\"\"Applies the Canny transform\"\"\"\n",
    "    return cv2.Canny(img, low_threshold, high_threshold)\n",
    "\n",
    "def gaussian_blur(img, kernel_size):\n",
    "    \"\"\"Applies a Gaussian Noise kernel\"\"\"\n",
    "    return cv2.GaussianBlur(img, (kernel_size, kernel_size), 0)\n",
    "\n",
    "def region_of_interest(img, vertices):\n",
    "    \"\"\"\n",
    "    Applies an image mask.\n",
    "    \n",
    "    Only keeps the region of the image defined by the polygon\n",
    "    formed from `vertices`. The rest of the image is set to black.\n",
    "    \"\"\"\n",
    "    #defining a blank mask to start with\n",
    "    mask = np.zeros_like(img)   \n",
    "    \n",
    "    #defining a 3 channel or 1 channel color to fill the mask with depending on the input image\n",
    "    if len(img.shape) > 2:\n",
    "        channel_count = img.shape[2]  # i.e. 3 or 4 depending on your image\n",
    "        ignore_mask_color = (255,) * channel_count\n",
    "    else:\n",
    "        ignore_mask_color = 255\n",
    "        \n",
    "    #filling pixels inside the polygon defined by \"vertices\" with the fill color    \n",
    "    cv2.fillPoly(mask, vertices, ignore_mask_color)\n",
    "    \n",
    "    #returning the image only where mask pixels are nonzero\n",
    "    masked_image = cv2.bitwise_and(img, mask)\n",
    "    return masked_image\n",
    "\n",
    "\n",
    "def draw_lines(img, lines, color=[255, 0, 0], thickness=2):\n",
    "    \"\"\"\n",
    "    NOTE: this is the function you might want to use as a starting point once you want to \n",
    "    average/extrapolate the line segments you detect to map out the full\n",
    "    extent of the lane (going from the result shown in raw-lines-example.mp4\n",
    "    to that shown in P1_example.mp4).  \n",
    "    \n",
    "    Think about things like separating line segments by their \n",
    "    slope ((y2-y1)/(x2-x1)) to decide which segments are part of the left\n",
    "    line vs. the right line.  Then, you can average the position of each of \n",
    "    the lines and extrapolate to the top and bottom of the lane.\n",
    "    \n",
    "    This function draws `lines` with `color` and `thickness`.    \n",
    "    Lines are drawn on the image inplace (mutates the image).\n",
    "    If you want to make the lines semi-transparent, think about combining\n",
    "    this function with the weighted_img() function below\n",
    "    \"\"\"\n",
    "    #UPDATED in order to allow better reusage of the function\n",
    "    lines_img = np.zeros((img.shape[0], img.shape[1], 3), dtype=np.uint8)\n",
    "   \n",
    "    for line in lines:\n",
    "        for x1,y1,x2,y2 in line:\n",
    "            cv2.line(lines_img, (x1, y1), (x2, y2), color, thickness)\n",
    "   \n",
    "    return lines_img\n",
    "\n",
    "def hough_lines(img, rho, theta, threshold, min_line_len, max_line_gap):\n",
    "    \"\"\"\n",
    "    `img` should be the output of a Canny transform.\n",
    "        \n",
    "    Returns an image with hough lines drawn.\n",
    "    \"\"\"\n",
    "    #UPDATED simplified in order to allow better reusage of the function\n",
    "    \n",
    "    return cv2.HoughLinesP(img, rho, theta, threshold, np.array([]), minLineLength=min_line_len, maxLineGap=max_line_gap)\n",
    "\n",
    "# Python 3 has support for cool math symbols.\n",
    "\n",
    "def weighted_img(img, initial_img, α=0.8, β=1., λ=0.):\n",
    "    \"\"\"\n",
    "    `img` is the output of the hough_lines(), An image with lines drawn on it.\n",
    "    Should be a blank image (all black) with lines drawn on it.\n",
    "    \n",
    "    `initial_img` should be the image before any processing.\n",
    "    \n",
    "    The result image is computed as follows:\n",
    "    \n",
    "    initial_img * α + img * β + λ\n",
    "    NOTE: initial_img and img must be the same shape!\n",
    "    \"\"\"\n",
    "    return cv2.addWeighted(initial_img, α, img, β, λ)\n"
   ]
  },
  {
   "cell_type": "markdown",
   "metadata": {},
   "source": [
    "## Test Images\n",
    "\n",
    "Build your pipeline to work on the images in the directory \"test_images\"  \n",
    "**You should make sure your pipeline works well on these images before you try the videos.**"
   ]
  },
  {
   "cell_type": "code",
   "execution_count": null,
   "metadata": {
    "collapsed": false
   },
   "outputs": [],
   "source": [
    "import os\n",
    "images = os.listdir(\"test_images/\")\n"
   ]
  },
  {
   "cell_type": "markdown",
   "metadata": {},
   "source": [
    "## Build a Lane Finding Pipeline\n",
    "\n"
   ]
  },
  {
   "cell_type": "markdown",
   "metadata": {},
   "source": [
    "Build the pipeline and run your solution on all test_images. Make copies into the `test_images_output` directory, and you can use the images in your writeup report.\n",
    "\n",
    "Try tuning the various parameters, especially the low and high Canny thresholds as well as the Hough lines parameters."
   ]
  },
  {
   "cell_type": "code",
   "execution_count": null,
   "metadata": {
    "collapsed": false
   },
   "outputs": [],
   "source": [
    "# TODO: Build your pipeline that will draw lane lines on the test_images\n",
    "# then save them to the test_images directory.\n",
    "\n",
    "def road_line_detection(image):\n",
    "    #ADDED basic detection methods that is just a sequence of the helper functions plus some improvements\n",
    "    \n",
    "    #Filters image for white and yellow; from approach 3\n",
    "    color_masked_img = select_rgb_colors(image)\n",
    "    #plt.imshow(color_masked_img)\n",
    "    #plt.show()\n",
    "    \n",
    "    #converts to gray scale\n",
    "    gray_img = grayscale(color_masked_img)\n",
    "    #plt.imshow(gray_img)\n",
    "    #plt.show()\n",
    "\n",
    "    #filters noise; parameter value will define how much detail is blures\n",
    "    gauss_img = gaussian_blur(gray_img, 15)            \n",
    "    #plt.imshow(gauss_img)\n",
    "    #plt.show()\n",
    "\n",
    "    #edge detection; parameters will dictate which edges will be considered or droped\n",
    "    canny_img = canny(gauss_img, 50, 150)\n",
    "    #plt.imshow(canny_img)\n",
    "    #plt.show()\n",
    "\n",
    "    #definition of the limits on the image; paramteres will define the shape of the ROI\n",
    "    ysize = image.shape[0]\n",
    "    xsize = image.shape[1]\n",
    "    left_bottom = [0, ysize]\n",
    "    right_bottom = [xsize, ysize]\n",
    "    apex = [xsize/2, 4*ysize/7]\n",
    "    polygon = np.array([ left_bottom, right_bottom, apex ], np.int32)\n",
    "    limit_img = region_of_interest(canny_img, [polygon])\n",
    "    #plt.imshow(limit_img)\n",
    "    #plt.show()\n",
    "\n",
    "    #preparation of the Hough transform; parameters will dictate what to be considered or droped\n",
    "    rho = 1\n",
    "    theta = np.pi/180\n",
    "    threshold = 20\n",
    "    min_line_length = 20\n",
    "    max_line_gap = 300\n",
    "    \n",
    "    return hough_lines(limit_img, rho, theta, threshold, min_line_length, max_line_gap)\n",
    "\n",
    "def basic_lane_detection(image):\n",
    "    #basic detection method; presents multiple small lines\n",
    "    detected_lines = road_line_detection(image)\n",
    "    lines_img = draw_lines(image, detected_lines)\n",
    "    \n",
    "    return weighted_img(lines_img,image)\n",
    "\n",
    "for image_name in images:\n",
    "    image = mpimg.imread('test_images/'+image_name)\n",
    "    #plt.imshow(image)\n",
    "    #plt.show()\n",
    "    final_img = basic_lane_detection(image)\n",
    "    plt.imshow(final_img)\n",
    "    plt.show()\n",
    "    "
   ]
  },
  {
   "cell_type": "code",
   "execution_count": null,
   "metadata": {
    "collapsed": false,
    "scrolled": true
   },
   "outputs": [],
   "source": [
    "def process_lines(img, lines):\n",
    "    #advanced detection method using trend lines\n",
    "    \"\"\"\n",
    "    Line processing in order to define one left and one right line based on Hough transform output.\n",
    "    The logic lies behind the fact that left and right lanes have slopes with oposite signal. Besides that,\n",
    "    the left lane is most likely situated on ledt side of the picture, the the right lane, on the right side.\n",
    "    Using that logic, we can remove lines that have a slope/side of the pictures not making sense.\n",
    "    That way, we can define a reliable trend line, once the strange values have been removed avoiding unwanted results\n",
    "    \"\"\"\n",
    "    x_trendline_l, y_trendline_l, trendline_l, x_trendline_r, y_trendline_r, trendline_r = [], [], [], [], [], []\n",
    "    #define theoritical frontier between left and right lines\n",
    "    left_right_frontier=img.shape[1]/2\n",
    "    #get coordinates values for max and min\n",
    "    y_size=img.shape[0]\n",
    "    #print(left_right_frontier)\n",
    "    #print(lines)\n",
    "    #print(len(lines))\n",
    "    #print(lines[0])\n",
    "    #print(len(lines[0]))\n",
    "    #print(lines[0][0])\n",
    "    #print(len(lines[0][0]))\n",
    "    min_x=min(min(a for [(a,b,c,d)] in lines),min(c for [(a,b,c,d)] in lines))\n",
    "    max_x=max(max(a for [(a,b,c,d)] in lines),max(c for [(a,b,c,d)] in lines))\n",
    "    min_y=min(min(b for [(a,b,c,d)] in lines),min(d for [(a,b,c,d)] in lines))\n",
    "    max_y=max(max(b for [(a,b,c,d)] in lines),max(d for [(a,b,c,d)] in lines))\n",
    "    for line in lines:\n",
    "        #analyze each line from the Hough transform; get the slope and the line center to define to which lane line it belongs\n",
    "        #print(line[0])\n",
    "        #if line[0][2]  != line[0][0]:\n",
    "        slope = (line[0][3]-line[0][1])/(line[0][2]-line[0][0])\n",
    "        line_center = (line[0][2]+line[0][0])/2\n",
    "        #if 0.5 < abs(slope) < 0.8 :\n",
    "        if slope < 0 and line_center < left_right_frontier:\n",
    "            #print('left')\n",
    "            #negative slope and left side of the image must belong to left lane line\n",
    "            x_trendline_l.append(line[0][0])  \n",
    "            x_trendline_l.append(line[0][2])  \n",
    "            y_trendline_l.append(line[0][1])\n",
    "            y_trendline_l.append(line[0][3])\n",
    "        elif slope > 0 and line_center > left_right_frontier:\n",
    "            #print('right')\n",
    "            x_trendline_r.append(line[0][0])  \n",
    "            x_trendline_r.append(line[0][2])  \n",
    "            y_trendline_r.append(line[0][1])\n",
    "            y_trendline_r.append(line[0][3])\n",
    "        #else:\n",
    "            #unwanted items\n",
    "            #print('exception')\n",
    "\n",
    "        #print('for loop')\n",
    "    \n",
    "    #print(x_trendline_l)\n",
    "    #print(len(x_trendline_l))\n",
    "    #print('####')\n",
    "    #print(x_trendline_r)\n",
    "    #print(len(x_trendline_r))\n",
    "    \n",
    "    #create the 1st degree trend lines using polyfit\n",
    "    if len(x_trendline_l) != 0 and len(x_trendline_l) != 0:\n",
    "        trendline_l = np.polyfit(x_trendline_l, y_trendline_l,1)\n",
    "    if len(x_trendline_r) != 0 and len(x_trendline_r) != 0:\n",
    "        trendline_r = np.polyfit(x_trendline_r, y_trendline_r,1)\n",
    "    \n",
    "    # convert lines definition from slope and instersection, to coordinates\n",
    "    xy_l=convert_trendlines(y_size,trendline_l)\n",
    "    xy_r=convert_trendlines(y_size,trendline_r)\n",
    "    trendlines=[int(xy_l[0]), int(xy_l[1]), int(xy_l[2]), int(xy_l[3])], [int(xy_r[0]), int(xy_r[1]), int(xy_r[2]), int(xy_r[3])]\n",
    "    \n",
    "    return trendlines\n",
    "\n",
    "def convert_trendlines(y_ini, trendline):\n",
    "    # convert lines definition from slope and instersection, to coordinates\n",
    "    y_end=3*y_ini/5\n",
    "    x_ini=(y_ini-trendline[1])/trendline[0]\n",
    "    x_end=(y_end-trendline[1])/trendline[0]\n",
    "    \n",
    "    return x_ini, y_ini, x_end, y_end\n",
    "\n",
    "def advanced_lane_detection(image):\n",
    "    #advanced detection\n",
    "    detected_lines = road_line_detection(image)\n",
    "    #adds trend lines creation to the basic method\n",
    "    trendlines = [process_lines(image, detected_lines)]\n",
    "    lines_img = draw_lines(image, trendlines,[255,0,0],10)\n",
    "    \n",
    "    return weighted_img(lines_img,image)\n",
    "\n",
    "for image_name in images:\n",
    "    image = mpimg.imread('test_images/'+image_name)\n",
    "    final_img = advanced_lane_detection(image)\n",
    "    plt.imshow(final_img)\n",
    "    plt.show()\n",
    "    "
   ]
  },
  {
   "cell_type": "markdown",
   "metadata": {},
   "source": [
    "## Test on Videos\n",
    "\n",
    "You know what's cooler than drawing lanes over images? Drawing lanes over video!\n",
    "\n",
    "We can test our solution on two provided videos:\n",
    "\n",
    "`solidWhiteRight.mp4`\n",
    "\n",
    "`solidYellowLeft.mp4`\n",
    "\n",
    "**Note: if you get an `import error` when you run the next cell, try changing your kernel (select the Kernel menu above --> Change Kernel).  Still have problems?  Try relaunching Jupyter Notebook from the terminal prompt. Also, check out [this forum post](https://carnd-forums.udacity.com/questions/22677062/answers/22677109) for more troubleshooting tips.**\n",
    "\n",
    "**If you get an error that looks like this:**\n",
    "```\n",
    "NeedDownloadError: Need ffmpeg exe. \n",
    "You can download it by calling: \n",
    "imageio.plugins.ffmpeg.download()\n",
    "```\n",
    "**Follow the instructions in the error message and check out [this forum post](https://carnd-forums.udacity.com/display/CAR/questions/26218840/import-videofileclip-error) for more troubleshooting tips across operating systems.**"
   ]
  },
  {
   "cell_type": "code",
   "execution_count": null,
   "metadata": {
    "collapsed": false
   },
   "outputs": [],
   "source": [
    "# Import everything needed to edit/save/watch video clips\n",
    "#import imageio\n",
    "from moviepy.editor import VideoFileClip\n",
    "from IPython.display import HTML\n",
    "#imageio.plugins.ffmpeg.download()"
   ]
  },
  {
   "cell_type": "markdown",
   "metadata": {},
   "source": [
    "Let's try the one with the solid white lane on the right first ..."
   ]
  },
  {
   "cell_type": "code",
   "execution_count": null,
   "metadata": {
    "collapsed": false
   },
   "outputs": [],
   "source": [
    "white_output = 'test_videos_output/solidWhiteRight.mp4'\n",
    "## To speed up the testing process you may want to try your pipeline on a shorter subclip of the video\n",
    "## To do so add .subclip(start_second,end_second) to the end of the line below\n",
    "## Where start_second and end_second are integer values representing the start and end of the subclip\n",
    "## You may also uncomment the following line for a subclip of the first 5 seconds\n",
    "##clip1 = VideoFileClip(\"test_videos/solidWhiteRight.mp4\").subclip(0,5)\n",
    "clip1 = VideoFileClip(\"test_videos/solidWhiteRight.mp4\")\n",
    "#ADDED updated function name to process the images\n",
    "white_clip = clip1.fl_image(basic_lane_detection) #NOTE: this function expects color images!!\n",
    "%time white_clip.write_videofile(white_output, audio=False)"
   ]
  },
  {
   "cell_type": "markdown",
   "metadata": {},
   "source": [
    "Play the video inline, or if you prefer find the video in your filesystem (should be in the same directory) and play it in your video player of choice."
   ]
  },
  {
   "cell_type": "code",
   "execution_count": null,
   "metadata": {
    "collapsed": false
   },
   "outputs": [],
   "source": [
    "HTML(\"\"\"\n",
    "<video width=\"960\" height=\"540\" controls>\n",
    "  <source src=\"{0}\">\n",
    "</video>\n",
    "\"\"\".format(white_output))"
   ]
  },
  {
   "cell_type": "markdown",
   "metadata": {},
   "source": [
    "## Improve the draw_lines() function\n",
    "\n",
    "**At this point, if you were successful with making the pipeline and tuning parameters, you probably have the Hough line segments drawn onto the road, but what about identifying the full extent of the lane and marking it clearly as in the example video (P1_example.mp4)?  Think about defining a line to run the full length of the visible lane based on the line segments you identified with the Hough Transform. As mentioned previously, try to average and/or extrapolate the line segments you've detected to map out the full extent of the lane lines. You can see an example of the result you're going for in the video \"P1_example.mp4\".**\n",
    "\n",
    "**Go back and modify your draw_lines function accordingly and try re-running your pipeline. The new output should draw a single, solid line over the left lane line and a single, solid line over the right lane line. The lines should start from the bottom of the image and extend out to the top of the region of interest.**"
   ]
  },
  {
   "cell_type": "markdown",
   "metadata": {},
   "source": [
    "Now for the one with the solid yellow lane on the left. This one's more tricky!"
   ]
  },
  {
   "cell_type": "code",
   "execution_count": null,
   "metadata": {
    "collapsed": false
   },
   "outputs": [],
   "source": [
    "yellow_output = 'test_videos_output/solidYellowLeft.mp4'\n",
    "## To speed up the testing process you may want to try your pipeline on a shorter subclip of the video\n",
    "## To do so add .subclip(start_second,end_second) to the end of the line below\n",
    "## Where start_second and end_second are integer values representing the start and end of the subclip\n",
    "## You may also uncomment the following line for a subclip of the first 5 seconds\n",
    "##clip2 = VideoFileClip('test_videos/solidYellowLeft.mp4').subclip(0,5)\n",
    "clip2 = VideoFileClip('test_videos/solidYellowLeft.mp4')\n",
    "#ADDED updated function name to process the images\n",
    "yellow_clip = clip2.fl_image(advanced_lane_detection)\n",
    "%time yellow_clip.write_videofile(yellow_output, audio=False)"
   ]
  },
  {
   "cell_type": "code",
   "execution_count": null,
   "metadata": {
    "collapsed": false
   },
   "outputs": [],
   "source": [
    "HTML(\"\"\"\n",
    "<video width=\"960\" height=\"540\" controls>\n",
    "  <source src=\"{0}\">\n",
    "</video>\n",
    "\"\"\".format(yellow_output))"
   ]
  },
  {
   "cell_type": "markdown",
   "metadata": {},
   "source": [
    "## Writeup and Submission\n",
    "\n",
    "If you're satisfied with your video outputs, it's time to make the report writeup in a pdf or markdown file. Once you have this Ipython notebook ready along with the writeup, it's time to submit for review! Here is a [link](https://github.com/udacity/CarND-LaneLines-P1/blob/master/writeup_template.md) to the writeup template file.\n"
   ]
  },
  {
   "cell_type": "markdown",
   "metadata": {
    "collapsed": true
   },
   "source": [
    "## Optional Challenge\n",
    "\n",
    "Try your lane finding pipeline on the video below.  Does it still work?  Can you figure out a way to make it more robust?  If you're up for the challenge, modify your pipeline so it works with this video and submit it along with the rest of your project!"
   ]
  },
  {
   "cell_type": "code",
   "execution_count": null,
   "metadata": {
    "collapsed": false,
    "scrolled": false
   },
   "outputs": [],
   "source": [
    "challenge_output = 'test_videos_output/challenge_advanced.mp4'\n",
    "## To speed up the testing process you may want to try your pipeline on a shorter subclip of the video\n",
    "## To do so add .subclip(start_second,end_second) to the end of the line below\n",
    "## Where start_second and end_second are integer values representing the start and end of the subclip\n",
    "## You may also uncomment the following line for a subclip of the first 5 seconds\n",
    "##clip3 = VideoFileClip('test_videos/challenge.mp4').subclip(0,5)\n",
    "clip3 = VideoFileClip('test_videos/challenge.mp4')\n",
    "#ADDED updated function name to process the images\n",
    "challenge_clip = clip3.fl_image(advanced_lane_detection)\n",
    "%time challenge_clip.write_videofile(challenge_output, audio=False)"
   ]
  },
  {
   "cell_type": "code",
   "execution_count": null,
   "metadata": {
    "collapsed": false
   },
   "outputs": [],
   "source": [
    "HTML(\"\"\"\n",
    "<video width=\"960\" height=\"540\" controls>\n",
    "  <source src=\"{0}\">\n",
    "</video>\n",
    "\"\"\".format(challenge_output))"
   ]
  },
  {
   "cell_type": "code",
   "execution_count": null,
   "metadata": {
    "collapsed": true
   },
   "outputs": [],
   "source": []
  }
 ],
 "metadata": {
  "anaconda-cloud": {},
  "kernelspec": {
   "display_name": "Python [default]",
   "language": "python",
   "name": "python3"
  },
  "language_info": {
   "codemirror_mode": {
    "name": "ipython",
    "version": 3
   },
   "file_extension": ".py",
   "mimetype": "text/x-python",
   "name": "python",
   "nbconvert_exporter": "python",
   "pygments_lexer": "ipython3",
   "version": "3.5.2"
  }
 },
 "nbformat": 4,
 "nbformat_minor": 1
}
